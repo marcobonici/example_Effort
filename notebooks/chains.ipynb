{
 "cells": [
  {
   "attachments": {},
   "cell_type": "markdown",
   "metadata": {},
   "source": [
    "# Japanese simulations analysis\n",
    "\n",
    "In this notebook, we are going to analyze the datasets coming from the japanese simulations of Nishimichi.\n",
    "Let us start importing the necessary packages"
   ]
  },
  {
   "cell_type": "code",
   "execution_count": null,
   "metadata": {},
   "outputs": [],
   "source": [
    "using Pkg\n",
    "Pkg.activate(\".\")"
   ]
  },
  {
   "cell_type": "code",
   "execution_count": null,
   "metadata": {},
   "outputs": [],
   "source": [
    "using Statistics\n",
    "using Plots, BenchmarkTools, Random\n",
    "using Base: @kwdef\n",
    "using BSON: @save\n",
    "using BSON: @load\n",
    "using BSON\n",
    "using LaTeXStrings\n",
    "using Distributions\n",
    "using SimpleChains\n",
    "using Static\n",
    "using NPZ\n",
    "using StatsPlots\n",
    "using ForwardDiff\n",
    "using LinearAlgebra\n",
    "using Statistics\n",
    "using ProgressMeter\n",
    "using Turing\n",
    "using Pathfinder\n",
    "using Optim\n",
    "#using Transducers"
   ]
  },
  {
   "cell_type": "code",
   "execution_count": null,
   "metadata": {},
   "outputs": [],
   "source": [
    "#using Revise\n",
    "using Effort\n",
    "using BlindedChallenge"
   ]
  },
  {
   "attachments": {},
   "cell_type": "markdown",
   "metadata": {},
   "source": [
    "First: let us decide if we are going to use lagrangian or optimal resummation"
   ]
  },
  {
   "cell_type": "code",
   "execution_count": null,
   "metadata": {},
   "outputs": [],
   "source": [
    "resum = \"optimal\"\n",
    "if resum == \"lagrangian\"\n",
    "    println(\"You choose lagrangian resummation!\")\n",
    "elseif resum == \"optimal\"\n",
    "    println(\"You choose optimal resummation!\")\n",
    "else\n",
    "    error(\"You didn't choose a viable resummation!\")\n",
    "end"
   ]
  },
  {
   "cell_type": "code",
   "execution_count": null,
   "metadata": {},
   "outputs": [],
   "source": [
    "rescale_cov = false\n",
    "if rescale_cov\n",
    "    println(\"You decided to rescale the covariance cov!\")\n",
    "    scaling_factor = 4\n",
    "    scaling_name = \"_scaled_\"\n",
    "else\n",
    "    println(\"You decided not to rescale the covariance!\")\n",
    "    scaling_factor = 1\n",
    "    scaling_name = \"\"\n",
    "end;"
   ]
  },
  {
   "attachments": {},
   "cell_type": "markdown",
   "metadata": {},
   "source": [
    "Let us load the trained Effort emulators for the blinded challenge."
   ]
  },
  {
   "cell_type": "code",
   "execution_count": null,
   "metadata": {},
   "outputs": [],
   "source": [
    "if resum == \"optimal\"\n",
    "    folder = \"../trained_emulators/PyBird_061_10000_optiresum_final/\"\n",
    "elseif resum == \"lagrangian\"\n",
    "    folder = \"../trained_emulators/PyBird_061_10000_lagrangian_guido_spectra_check/\"\n",
    "else\n",
    "    error(\"You didn't choose a viable resummation!\")\n",
    "end"
   ]
  },
  {
   "cell_type": "code",
   "execution_count": null,
   "metadata": {},
   "outputs": [],
   "source": [
    "k_grid = npzread(folder*\"k_grid.npy\")\n",
    "\n",
    "function load_component(component, ℓ, folder, k_grid)\n",
    "    if component == \"11\"\n",
    "        k_number = 60\n",
    "    elseif component == \"loop\"\n",
    "        k_number = 240\n",
    "    elseif component == \"ct\"\n",
    "        k_number = 120\n",
    "    else\n",
    "        error(\"You didn't choose a viable component!\")\n",
    "    end\n",
    "    mlpd = SimpleChain(\n",
    "      static(3),\n",
    "      TurboDense(tanh, 64),\n",
    "      TurboDense(tanh, 64),\n",
    "      TurboDense(tanh, 64),\n",
    "      TurboDense(tanh, 64),\n",
    "      TurboDense(tanh, 64),\n",
    "      TurboDense(identity, k_number)\n",
    "    )\n",
    "\n",
    "    weights = npzread(folder*\"weights_P_\"*component*\"_l_\"*string(ℓ)*\".npy\")\n",
    "    outMinMax = npzread(folder*\"outMinMax_P_\"*component*\"_l_\"*string(ℓ)*\".npy\")\n",
    "    inMinMax = npzread(folder*\"inMinMax_l_\"*string(ℓ)*\".npy\")\n",
    "\n",
    "    sc_emu = Effort.SimpleChainsEmulator(Architecture = mlpd, Weights = weights)\n",
    "    if component == \"11\"\n",
    "        comp_emu = Effort.P11Emulator(TrainedEmulator = sc_emu, kgrid = k_grid,\n",
    "               InMinMax=inMinMax, OutMinMax = outMinMax)\n",
    "    elseif component == \"loop\"\n",
    "        comp_emu = Effort.PloopEmulator(TrainedEmulator = sc_emu, kgrid = k_grid,\n",
    "               InMinMax=inMinMax, OutMinMax = outMinMax)\n",
    "    elseif component == \"ct\"\n",
    "        comp_emu = Effort.PctEmulator(TrainedEmulator = sc_emu, kgrid = k_grid,\n",
    "               InMinMax=inMinMax, OutMinMax = outMinMax)\n",
    "    else\n",
    "        error(\"You didn't choose a viable component!\")\n",
    "    end\n",
    "    return comp_emu\n",
    "end\n",
    "\n",
    "function load_multipole(ℓ, folder, k_grid)\n",
    "    P11 = load_component(\"11\", ℓ, folder, k_grid)\n",
    "    Ploop = load_component(\"loop\", ℓ, folder, k_grid)\n",
    "    Pct = load_component(\"ct\", ℓ, folder, k_grid)\n",
    "    emulator = Effort.PℓEmulator(P11 = P11, Ploop = Ploop, Pct = Pct)\n",
    "    return emulator\n",
    "end"
   ]
  },
  {
   "cell_type": "code",
   "execution_count": null,
   "metadata": {},
   "outputs": [],
   "source": [
    "Mono_Emu = load_multipole(0, folder, k_grid)\n",
    "Quad_Emu = load_multipole(2, folder, k_grid);"
   ]
  },
  {
   "attachments": {},
   "cell_type": "markdown",
   "metadata": {},
   "source": [
    "# The likelihood"
   ]
  },
  {
   "cell_type": "code",
   "execution_count": null,
   "metadata": {},
   "outputs": [],
   "source": [
    "function theory(θ, n, Mono_Emu, Quad_Emu)\n",
    "    # θ[1:3] cosmoparams, ln_10_As, H0, ΩM\n",
    "    # θ[4:9] bias\n",
    "    # θ[10:11] stoch\n",
    "    #f = fN(θ[3], 0.61)\n",
    "    f = Effort._f_z(0.61, θ[3], -1., 0.);\n",
    "    #conversion from c2-c4 to b2-b4\n",
    "    b2 = (θ[5]+θ[7])/√2\n",
    "    b4 = (θ[5]-θ[7])/√2\n",
    "    my_θ = deepcopy(θ)\n",
    "    my_θ[8] /= (0.7^2)\n",
    "    my_θ[9] /= (0.7^2)\n",
    "    n_bar = 3e-4 #value  that has been suggested by Guido himself\n",
    "    k_bins = Effort.create_bin_edges(BlindedChallenge.k_grid)\n",
    "    #stoch_0, stoch_2 = Effort.get_stoch_terms(0, θ[10], θ[11], n_bar, k_grid)\n",
    "    stoch_0, stoch_2 = Effort.get_stoch_terms_binned_efficient(0., my_θ[10], my_θ[11], n_bar, k_bins)\n",
    "    return vcat((Effort.get_Pℓ(my_θ[1:3], vcat(my_θ[4], b2, my_θ[6], b4, my_θ[8:9] , 0), f, Mono_Emu) .+ stoch_0)[1:n],\n",
    "                (Effort.get_Pℓ(my_θ[1:3], vcat(my_θ[4], b2, my_θ[6], b4, my_θ[8:9] , 0), f, Quad_Emu) .+ stoch_2)[1:n])\n",
    "end"
   ]
  },
  {
   "cell_type": "code",
   "execution_count": null,
   "metadata": {},
   "outputs": [],
   "source": [
    "@benchmark theory(ones(11), 20, Mono_Emu, Quad_Emu)"
   ]
  },
  {
   "attachments": {},
   "cell_type": "markdown",
   "metadata": {},
   "source": [
    "# Turing & Pathfinder\n",
    "\n",
    "We are now ready to write our loglikelihood!\n",
    "We are going to employ Turing.jl, a Probabilistic Programming Language (PPL) written in Julia.\n",
    "Our model can be conveniently written using the `@model` macro.\n",
    "It is quite easy to write the priors with this formalism. The priors employed in this analysis are the same used by Guido in its analysis\n",
    "- $b_1$ $\\sim$ $\\mathrm{Uniform}$ $(0, 4)$\n",
    "- $c_2$ $\\sim$ $\\mathrm{Uniform}$ $(-4, 4)$\n",
    "- $b_3$ $\\sim$ $\\mathcal{N}(0,10)$ \n",
    "- $c_4$ $\\sim$ $\\mathcal{N}(0,2)$\n",
    "- $c_\\mathrm{ct}$ $\\sim$ $\\mathcal{N}(0,4)$\n",
    "- $c_\\mathrm{r1}$ $\\sim$ $\\mathcal{N}(0,8)$\n",
    "- $c_{\\epsilon,m}$ $\\sim$ $\\mathcal{N}(0,2)$\n",
    "- $c_{\\epsilon,q}$ $\\sim$ $\\mathcal{N}(0,4)$"
   ]
  },
  {
   "cell_type": "code",
   "execution_count": null,
   "metadata": {},
   "outputs": [],
   "source": [
    "@model function pplmodel(data, cov, n, Mono_Emu, Quad_Emu)\n",
    "    ln10As ~ Uniform(2.9, 3.15)\n",
    "    H0     ~ Uniform(62.,68.)\n",
    "    ΩM     ~ Uniform(0.30, 0.34)\n",
    "    b1     ~ Uniform(0., 4.)\n",
    "    c2     ~ Uniform(-4., 4.)\n",
    "    b3     ~ Normal(0., 10.)\n",
    "    c4     ~ Normal(0., 2.)\n",
    "    cct    ~ Normal(0., 4.)\n",
    "    cr1    ~ Normal(0., 8.)\n",
    "    cϵm    ~ Normal(0., 2.)\n",
    "    cϵq    ~ Normal(0., 4.)\n",
    "\n",
    "    θ = [ln10As, H0, ΩM, b1, c2, b3, c4, cct, cr1, cϵm, cϵq]\n",
    "\n",
    "    prediction = theory(θ, n, Mono_Emu, Quad_Emu)\n",
    "\n",
    "    data ~ MvNormal(prediction, cov)\n",
    "    return nothing\n",
    "end\n",
    "\n",
    "n = 20\n",
    "\n",
    "data_20, k_20, cov_20, yerror_Mono_20, yerror_Quad_20 = BlindedChallenge.create_data(n)\n",
    "\n",
    "model_20 = pplmodel(data_20, cov_20.*scaling_factor, 20, Mono_Emu, Quad_Emu);"
   ]
  },
  {
   "cell_type": "code",
   "execution_count": null,
   "metadata": {},
   "outputs": [],
   "source": [
    "nsteps  = 1000\n",
    "nadapts = 250\n",
    "nchains = 8"
   ]
  },
  {
   "cell_type": "code",
   "execution_count": null,
   "metadata": {},
   "outputs": [],
   "source": [
    "@time bestfit_20 = optimize(model_20, MAP(), Optim.Options(iterations=100000, allow_f_increases=true))"
   ]
  },
  {
   "cell_type": "code",
   "execution_count": null,
   "metadata": {},
   "outputs": [],
   "source": [
    "chains_20 = sample(model_20, Turing.NUTS(nadapts, 0.9), MCMCThreads(), nsteps, nchains)"
   ]
  },
  {
   "cell_type": "code",
   "execution_count": null,
   "metadata": {},
   "outputs": [],
   "source": [
    "p = plot(chains_20)\n",
    "savefig(\"chains_turing_\"*resum*scaling_name*\"_Pathfinder_20.pdf\")\n",
    "savefig(\"chains_turing_\"*resum*scaling_name*\"_Pathfinder_20.png\")\n",
    "p"
   ]
  },
  {
   "cell_type": "code",
   "execution_count": null,
   "metadata": {},
   "outputs": [],
   "source": [
    "function transpose_samples_single_chain_HMC(sample)\n",
    "    save_sample = zeros(length(sample[:,1]), 11)\n",
    "    for i in 1:11\n",
    "        save_sample[:,i] = sample[:,i]\n",
    "    end\n",
    "    return save_sample\n",
    "end\n",
    "\n",
    "function process_chain(chains, nchains, n_samples)\n",
    "    ln_10_As = zeros(nchains, n_samples)\n",
    "    H0 = zeros(nchains, n_samples)\n",
    "    ΩM = zeros(nchains, n_samples)\n",
    "    b1 = zeros(nchains, n_samples)\n",
    "    c2 = zeros(nchains, n_samples)\n",
    "    c4 = zeros(nchains, n_samples)\n",
    "\n",
    "\n",
    "    for i in 1:nchains\n",
    "        chains_20 = transpose_samples_single_chain_HMC(chains.value.data[:,1:11,i])\n",
    "        ln_10_As[i, :] = chains_20[:,1]\n",
    "        H0[i, :] = chains_20[:,2]\n",
    "        ΩM[i, :] = chains_20[:,3]\n",
    "        b1[i, :] = chains_20[:,4]\n",
    "        c2[i, :] = chains_20[:,5]\n",
    "        c4[i, :] = chains_20[:,7]\n",
    "    end\n",
    "\n",
    "    my_ln_10_As = reshape(ln_10_As, nchains * n_samples)\n",
    "    my_H0 = reshape(H0, nchains * n_samples)\n",
    "    my_ΩM = reshape(ΩM, nchains * n_samples)\n",
    "    my_b1 = reshape(b1, nchains * n_samples)\n",
    "    my_c2 = reshape(c2, nchains * n_samples)\n",
    "    my_c4 = reshape(c4, nchains * n_samples)\n",
    "    println(\"ln_10_As mean is \",mean(my_ln_10_As), \" and the std is \",std(my_ln_10_As),\".\")\n",
    "    println(\"H0 mean is \",mean(my_H0), \" and the std is \",std(my_H0),\".\")\n",
    "    println(\"ΩM mean is \",mean(my_ΩM), \" and the std is \",std(my_ΩM),\".\")\n",
    "    println(\"b1 mean is \",mean(my_b1), \" and the std is \",std(my_b1),\".\")\n",
    "    println(\"c2 mean is \",mean(my_c2), \" and the std is \",std(my_c2),\".\")\n",
    "    println(\"c4 mean is \",mean(my_c4), \" and the std is \",std(my_c4),\".\")\n",
    "\n",
    "    x = zeros(length(my_ln_10_As), 6)\n",
    "    x[:,1] = my_ΩM\n",
    "    x[:,2] = my_H0\n",
    "    x[:,3] = my_ln_10_As\n",
    "    x[:,4] = my_b1\n",
    "    x[:,5] = my_c2\n",
    "    x[:,6] = my_c4\n",
    "    return x\n",
    "end"
   ]
  },
  {
   "cell_type": "code",
   "execution_count": null,
   "metadata": {},
   "outputs": [],
   "source": [
    "x = process_chain(chains_20, nchains, nsteps)\n",
    "npzwrite(\"my_chains_20_\"*resum*scaling_name*\"_Pathfinder_NUTS.npy\", x)"
   ]
  },
  {
   "attachments": {},
   "cell_type": "markdown",
   "metadata": {},
   "source": [
    "## $k_\\mathrm{max}=0.18$"
   ]
  },
  {
   "cell_type": "code",
   "execution_count": null,
   "metadata": {},
   "outputs": [],
   "source": [
    "n = 18\n",
    "\n",
    "data_18, k_18, cov_18, yerror_Mono_18, yerror_Quad_18 = BlindedChallenge.create_data(n)\n",
    "\n",
    "model_18 = pplmodel(data_18, cov_18.*scaling_factor, n, Mono_Emu, Quad_Emu);"
   ]
  },
  {
   "cell_type": "code",
   "execution_count": null,
   "metadata": {},
   "outputs": [],
   "source": [
    "result_multi_18 = multipathfinder(model_18, 1000; nruns = 8, executor = Transducers.PreferParallel())"
   ]
  },
  {
   "cell_type": "code",
   "execution_count": null,
   "metadata": {},
   "outputs": [],
   "source": [
    "init_params_18 = collect.(eachrow(result_multi_18.draws_transformed.value[1:nchains, :, 1]));"
   ]
  },
  {
   "cell_type": "code",
   "execution_count": null,
   "metadata": {},
   "outputs": [],
   "source": [
    "chains_18 = sample(model_18, Turing.NUTS(nadapts, 0.65), MCMCThreads(), nsteps, nchains; init_params = init_params_18)"
   ]
  },
  {
   "cell_type": "code",
   "execution_count": null,
   "metadata": {},
   "outputs": [],
   "source": [
    "p = plot(chains_18)\n",
    "savefig(\"chains_turing_\"*resum*scaling_name*\"_Pathfinder_18.pdf\")\n",
    "savefig(\"chains_turing_\"*resum*scaling_name*\"_Pathfinder_18.png\")"
   ]
  },
  {
   "cell_type": "code",
   "execution_count": null,
   "metadata": {},
   "outputs": [],
   "source": [
    "x = process_chain(chains_18, nchains, nsteps)\n",
    "npzwrite(\"my_chains_18_\"*resum*scaling_name*\"_Pathfinder_NUTS.npy\", x)"
   ]
  },
  {
   "attachments": {},
   "cell_type": "markdown",
   "metadata": {},
   "source": [
    "## $k_\\mathrm{max}=0.16$"
   ]
  },
  {
   "cell_type": "code",
   "execution_count": null,
   "metadata": {},
   "outputs": [],
   "source": [
    "n = 16\n",
    "\n",
    "data_16, k_16, cov_16, yerror_Mono_16, yerror_Quad_16 = BlindedChallenge.create_data(n)\n",
    "\n",
    "model_16 = pplmodel(data_16, cov_16.*scaling_factor, n, Mono_Emu, Quad_Emu)\n",
    "\n",
    "result_multi_16 = multipathfinder(model_16, 1000; nruns = 8, executor = Transducers.PreferParallel())"
   ]
  },
  {
   "cell_type": "code",
   "execution_count": null,
   "metadata": {},
   "outputs": [],
   "source": [
    "init_params_16 = collect.(eachrow(result_multi_16.draws_transformed.value[1:nchains, :, 1]))\n",
    "\n",
    "chains_16 = sample(model_16, Turing.NUTS(nadapts, 0.65), MCMCThreads(), nsteps, nchains; init_params = init_params_16)"
   ]
  },
  {
   "cell_type": "code",
   "execution_count": null,
   "metadata": {},
   "outputs": [],
   "source": [
    "p = plot(chains_16)\n",
    "savefig(\"chains_turing_\"*resum*scaling_name*\"_Pathfinder_16.pdf\")\n",
    "savefig(\"chains_turing_\"*resum*scaling_name*\"_Pathfinder_16.png\")"
   ]
  },
  {
   "cell_type": "code",
   "execution_count": null,
   "metadata": {},
   "outputs": [],
   "source": [
    "x = process_chain(chains_16, nchains, nsteps)\n",
    "npzwrite(\"my_chains_16_\"*resum*scaling_name*\"_Pathfinder_NUTS.npy\", x)"
   ]
  },
  {
   "attachments": {},
   "cell_type": "markdown",
   "metadata": {},
   "source": [
    "## $k_\\mathrm{max}=0.14$"
   ]
  },
  {
   "cell_type": "code",
   "execution_count": null,
   "metadata": {},
   "outputs": [],
   "source": [
    "n = 14\n",
    "\n",
    "data_14, k_14, cov_14, yerror_Mono_14, yerror_Quad_14 = BlindedChallenge.create_data(n)\n",
    "\n",
    "model_14 = pplmodel(data_14, cov_14.*scaling_factor, n, Mono_Emu, Quad_Emu)\n",
    "\n",
    "result_multi_14 = multipathfinder(model_14, 1000; nruns = 8, executor = Transducers.PreferParallel())"
   ]
  },
  {
   "cell_type": "code",
   "execution_count": null,
   "metadata": {},
   "outputs": [],
   "source": [
    "init_params_14 = collect.(eachrow(result_multi_14.draws_transformed.value[1:nchains, :, 1]))\n",
    "\n",
    "chains_14 = sample(model_14, Turing.NUTS(nadapts, 0.65), MCMCThreads(), nsteps, nchains; init_params = init_params_14)"
   ]
  },
  {
   "cell_type": "code",
   "execution_count": null,
   "metadata": {},
   "outputs": [],
   "source": [
    "p = plot(chains_14)\n",
    "savefig(\"chains_turing_\"*resum*scaling_name*\"_Pathfinder_14.pdf\")\n",
    "savefig(\"chains_turing_\"*resum*scaling_name*\"_Pathfinder_14.png\")"
   ]
  },
  {
   "cell_type": "code",
   "execution_count": null,
   "metadata": {},
   "outputs": [],
   "source": [
    "x = process_chain(chains_14, nchains, nsteps)\n",
    "npzwrite(\"my_chains_14_\"*resum*scaling_name*\"_Pathfinder_NUTS.npy\", x)"
   ]
  },
  {
   "attachments": {},
   "cell_type": "markdown",
   "metadata": {},
   "source": [
    "## $k_\\mathrm{max}=0.12$"
   ]
  },
  {
   "cell_type": "code",
   "execution_count": null,
   "metadata": {},
   "outputs": [],
   "source": [
    "n = 12\n",
    "\n",
    "data_12, k_12, cov_12, yerror_Mono_12, yerror_Quad_12 = BlindedChallenge.create_data(n)\n",
    "\n",
    "model_12 = pplmodel(data_12, cov_12.*scaling_factor, n, Mono_Emu, Quad_Emu)\n",
    "\n",
    "result_multi_12 = multipathfinder(model_12, 1000; nruns = 8, executor = Transducers.PreferParallel())"
   ]
  },
  {
   "cell_type": "code",
   "execution_count": null,
   "metadata": {},
   "outputs": [],
   "source": [
    "init_params_12 = collect.(eachrow(result_multi_12.draws_transformed.value[1:nchains, :, 1]))\n",
    "\n",
    "chains_12 = sample(model_12, Turing.NUTS(nadapts, 0.65), MCMCThreads(), nsteps, nchains; init_params = init_params_12)"
   ]
  },
  {
   "cell_type": "code",
   "execution_count": null,
   "metadata": {},
   "outputs": [],
   "source": [
    "p = plot(chains_12)\n",
    "savefig(\"chains_turing_\"*resum*scaling_name*\"_Pathfinder_12.pdf\")\n",
    "savefig(\"chains_turing_\"*resum*scaling_name*\"_Pathfinder_12.png\")"
   ]
  },
  {
   "cell_type": "code",
   "execution_count": null,
   "metadata": {},
   "outputs": [],
   "source": [
    "x = process_chain(chains_12, nchains, nsteps)\n",
    "npzwrite(\"my_chains_12_\"*resum*scaling_name*\"_Pathfinder_NUTS.npy\", x)"
   ]
  }
 ],
 "metadata": {
  "kernelspec": {
   "display_name": "Julia 1.10.0 nt 16 1.10.0",
   "language": "julia",
   "name": "julia-1.10.0-nt-16-1.10"
  },
  "language_info": {
   "file_extension": ".jl",
   "mimetype": "application/julia",
   "name": "julia",
   "version": "1.10.0"
  }
 },
 "nbformat": 4,
 "nbformat_minor": 4
}
